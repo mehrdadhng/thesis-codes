{
 "cells": [
  {
   "cell_type": "code",
   "execution_count": 1,
   "id": "38bee92e-8afe-4314-8693-51464de77f48",
   "metadata": {},
   "outputs": [],
   "source": [
    "import numpy as np\n",
    "import csv\n",
    "import pandas as pd\n",
    "from colorsys import hsv_to_rgb\n",
    "from tqdm.notebook import tqdm\n",
    "from PIL import Image\n",
    "from sklearn.preprocessing import MinMaxScaler\n",
    "from sklearn.metrics import confusion_matrix, classification_report\n",
    "from sklearn.model_selection import train_test_split\n",
    "import torch\n",
    "import torchvision\n",
    "from torchvision import transforms, utils, datasets\n",
    "from torch.utils.data import Dataset, DataLoader, SubsetRandomSampler\n",
    "import torch.nn as nn\n",
    "import torch.nn.functional as F\n",
    "import torch.optim as optim\n",
    "import matplotlib.pyplot as plt\n",
    "import os\n",
    "import shutil\n",
    "import seaborn as sns\n",
    "from scipy.linalg import khatri_rao\n",
    "from sklearn.metrics import mean_squared_error\n",
    "import time\n",
    "import joblib\n",
    "import ast"
   ]
  },
  {
   "cell_type": "code",
   "execution_count": 2,
   "id": "f9d53002-b964-4b2b-be82-c9beeb3a88d4",
   "metadata": {},
   "outputs": [],
   "source": [
    "%matplotlib inline\n",
    "sns.set_style('dark')"
   ]
  },
  {
   "cell_type": "code",
   "execution_count": 3,
   "id": "0b1b30cf-c7e5-40f2-929e-5443f154c8f9",
   "metadata": {},
   "outputs": [],
   "source": [
    "#Choose topology\n",
    "od_list = list(pd.read_csv(\"../data/ods.csv\").to_numpy())\n",
    "node_list = list(pd.read_csv(\"../data/nodes.csv\").to_numpy().flatten())\n",
    "host_list = list(pd.read_csv(\"../data/hosts.csv\").to_numpy().flatten())\n",
    "switch_list = list(pd.read_csv(\"../data/switches.csv\").to_numpy().flatten())\n",
    "edge_list = list(pd.read_csv(\"../data/edges.csv\").to_numpy())\n",
    "routing_matrix = pd.read_csv(\"../data/routing_matrix.csv\").to_numpy()\n",
    "M = routing_matrix.shape[0]\n",
    "L = routing_matrix.shape[1]\n",
    "\n",
    "indices_per_host = []\n",
    "for host in host_list:\n",
    "    temp = []\n",
    "    for i in range(len(od_list)):\n",
    "        od = od_list[i]\n",
    "        if od[0] == host:\n",
    "            temp.append(i)\n",
    "    indices_per_host.append(temp)\n",
    "indices_per_host = np.array(indices_per_host)\n",
    "#####################"
   ]
  },
  {
   "cell_type": "code",
   "execution_count": 4,
   "id": "33d2b6fe-3839-489e-84f8-51c4a3a04017",
   "metadata": {},
   "outputs": [],
   "source": [
    "#Choose distribution\n",
    "distro = \"Poisson\"\n",
    "# distro = \"Normal\"\n",
    "# distro = \"mixedPoisson\"\n",
    "####################"
   ]
  },
  {
   "cell_type": "markdown",
   "id": "98d25781-2770-4fce-9447-04a868a68bb7",
   "metadata": {},
   "source": [
    "# Definitions"
   ]
  },
  {
   "cell_type": "code",
   "execution_count": 5,
   "id": "408cd943-90f3-4b40-9bdc-1baf7d280f42",
   "metadata": {},
   "outputs": [],
   "source": [
    "image_transforms = {\n",
    "    \"train\": transforms.Compose([\n",
    "        transforms.Resize((90, 90)),\n",
    "        transforms.ToTensor(),\n",
    "        transforms.Grayscale()\n",
    "    ]),\n",
    "    \"test\": transforms.Compose([\n",
    "        transforms.Resize((90, 90)),\n",
    "        transforms.ToTensor(),\n",
    "        transforms.Grayscale()\n",
    "    ])\n",
    "}"
   ]
  },
  {
   "cell_type": "code",
   "execution_count": 6,
   "id": "c24bf91e-0709-47be-8c0b-dc80391c0d80",
   "metadata": {},
   "outputs": [],
   "source": [
    "def get_class_distribution(dataset_obj):\n",
    "    count_dict = {k:0 for k,v in dataset_obj.class_to_idx.items()}\n",
    "    for _, label_id in dataset_obj:\n",
    "        label = idx2class[label_id]\n",
    "        count_dict[label] += 1\n",
    "    return count_dict"
   ]
  },
  {
   "cell_type": "code",
   "execution_count": 7,
   "id": "e8292806-125d-4426-b97d-4e3801473a99",
   "metadata": {},
   "outputs": [],
   "source": [
    "def get_class_distribution_loaders(dataloader_obj, dataset_obj):\n",
    "    count_dict = {k:0 for k,v in dataset_obj.class_to_idx.items()}\n",
    "    if dataloader_obj.batch_size == 1:    \n",
    "        for _,label_id in dataloader_obj:\n",
    "            y_idx = label_id.item()\n",
    "            y_lbl = idx2class[y_idx]\n",
    "            count_dict[str(y_lbl)] += 1\n",
    "    else: \n",
    "        for _,label_id in dataloader_obj:\n",
    "            for idx in label_id:\n",
    "                y_idx = idx.item()\n",
    "                y_lbl = idx2class[y_idx]\n",
    "                count_dict[str(y_lbl)] += 1\n",
    "    return count_dict"
   ]
  },
  {
   "cell_type": "code",
   "execution_count": 8,
   "id": "73302703-cf21-486d-a424-41f3b88dac95",
   "metadata": {},
   "outputs": [],
   "source": [
    "def plot_from_dict(dict_obj, plot_title, **kwargs):\n",
    "    return sns.barplot(data = pd.DataFrame.from_dict([dict_obj]).melt(), x = \"variable\", y=\"value\", **kwargs).set_title(plot_title)"
   ]
  },
  {
   "cell_type": "code",
   "execution_count": 9,
   "id": "9836ca1b-f3c8-4bbd-b1fb-c0a6040d925c",
   "metadata": {},
   "outputs": [],
   "source": [
    "class Classifier(nn.Module):\n",
    "    def __init__(self, numChannels, classes):\n",
    "        super(Classifier, self).__init__()\n",
    "        self.conv1 = nn.Conv2d(in_channels=numChannels, out_channels=20,kernel_size=(5, 5), stride=(1,1))\n",
    "        self.relu1 = nn.ReLU()\n",
    "        self.maxpool1 = nn.MaxPool2d(kernel_size=(2, 2), stride=(2, 2))\n",
    "        self.conv2 = nn.Conv2d(in_channels=20, out_channels=10,kernel_size=(4, 4), stride=(1,1))\n",
    "        self.relu2 = nn.ReLU()\n",
    "        self.maxpool2 = nn.MaxPool2d(kernel_size=(2, 2), stride=(2, 2))\n",
    "        self.fc1 = nn.Linear(in_features=4000, out_features=500)\n",
    "        self.relu3 = nn.ReLU()\n",
    "        self.fc2 = nn.Linear(in_features=500, out_features=classes)\n",
    "        self.logSoftmax = nn.LogSoftmax(dim=1)\n",
    "    def forward(self, x):\n",
    "        x = self.conv1(x)\n",
    "        x = self.relu1(x)\n",
    "        x = self.maxpool1(x)\n",
    "        x = self.conv2(x)\n",
    "        x = self.relu2(x)\n",
    "        x = self.maxpool2(x)\n",
    "        x = torch.flatten(x, 1)\n",
    "        x = self.fc1(x)\n",
    "        x = self.relu3(x)\n",
    "        x = self.fc2(x)\n",
    "        return x"
   ]
  },
  {
   "cell_type": "code",
   "execution_count": 10,
   "id": "bf82ebf5-8944-4ca9-a4e9-ea50cd2ef3c7",
   "metadata": {},
   "outputs": [],
   "source": [
    "def multi_acc(y_pred, y_test):\n",
    "    y_pred_softmax = torch.log_softmax(y_pred, dim = 1)\n",
    "    _, y_pred_tags = torch.max(y_pred_softmax, dim = 1)    \n",
    "    correct_pred = (y_pred_tags == y_test).float()\n",
    "    acc = correct_pred.sum() / len(correct_pred)\n",
    "    acc = torch.round(acc * 100)\n",
    "    return acc"
   ]
  },
  {
   "cell_type": "code",
   "execution_count": 11,
   "id": "deb8815e-b74a-46a1-aa89-aaf8486feba5",
   "metadata": {},
   "outputs": [],
   "source": [
    "accuracy_stats = {\n",
    "    'train': [],\n",
    "    \"val\": []\n",
    "}\n",
    "loss_stats = {\n",
    "    'train': [],\n",
    "    \"val\": []\n",
    "}"
   ]
  },
  {
   "cell_type": "code",
   "execution_count": 13,
   "id": "c0200365-5dc2-4455-a8f1-a06cbc78bd9c",
   "metadata": {},
   "outputs": [],
   "source": [
    "class_to_idx = {}\n",
    "idx_to_class = {}\n",
    "with open('../model/class_to_idx.csv','r') as csvfile:\n",
    "    rd = csv.reader(csvfile,delimiter = ',')\n",
    "    for row in rd:\n",
    "        class_to_idx = ast.literal_eval(row[0])\n",
    "        break\n",
    "        \n",
    "with open('../model/idx_to_class.csv','r') as csvfile:\n",
    "    rd = csv.reader(csvfile,delimiter = ',')\n",
    "    for row in rd:\n",
    "        idx_to_class = ast.literal_eval(row[0])\n",
    "        break"
   ]
  },
  {
   "cell_type": "code",
   "execution_count": 14,
   "id": "ce5e5d19-2f5b-4128-b723-e45fc793df52",
   "metadata": {},
   "outputs": [],
   "source": [
    "def rank_links(routing_matrix, od_list, host_list, htui):\n",
    "    M = routing_matrix.shape[0]\n",
    "    L = routing_matrix.shape[1]\n",
    "    links_ranks = np.zeros(M)\n",
    "    for row in range(M):\n",
    "        temp = 0\n",
    "        for col in range(L):\n",
    "            if (routing_matrix[row,col] == 1):\n",
    "                od = od_list[col]\n",
    "                if not host_list.index(od[0]) in htui:\n",
    "                    temp += 1\n",
    "        links_ranks[row] = temp\n",
    "    return links_ranks"
   ]
  },
  {
   "cell_type": "code",
   "execution_count": 15,
   "id": "ad220896-20af-426e-9f60-ce4325899f8a",
   "metadata": {},
   "outputs": [],
   "source": [
    "def score(model, image_transforms, image_path, idx2class):\n",
    "    model = model.eval()\n",
    "    with torch.no_grad():\n",
    "        image = Image.open(image_path)\n",
    "        image = image_transforms(image).float()\n",
    "        image = image.unsqueeze(0)\n",
    "        output = model(image).numpy()[0]\n",
    "        indices = np.argsort(output)[::-1]\n",
    "        classes_sorted = [int(idx2class[x]) for x in indices]\n",
    "        return classes_sorted"
   ]
  },
  {
   "cell_type": "markdown",
   "id": "de628604-eae7-4aa3-8b63-6fb4bdeed8b1",
   "metadata": {},
   "source": [
    "# Preprocessor"
   ]
  },
  {
   "cell_type": "code",
   "execution_count": 16,
   "id": "e44546b8-b22b-4126-ad5c-6b6a62bedacb",
   "metadata": {},
   "outputs": [
    {
     "name": "stdout",
     "output_type": "stream",
     "text": [
      "We're using => cuda\n"
     ]
    }
   ],
   "source": [
    "device = torch.device(\"cuda\" if torch.cuda.is_available() else \"cpu\")\n",
    "print(\"We're using =>\", device)"
   ]
  },
  {
   "cell_type": "code",
   "execution_count": 17,
   "id": "e2a9158f-4189-4544-a467-6b24d7ab04e5",
   "metadata": {},
   "outputs": [
    {
     "data": {
      "text/plain": [
       "<All keys matched successfully>"
      ]
     },
     "execution_count": 17,
     "metadata": {},
     "output_type": "execute_result"
    }
   ],
   "source": [
    "# model = torch.load('../model/CNN.pth')\n",
    "model = Classifier(1,len(host_list))\n",
    "PATH = '../model/CNN.pth'\n",
    "model.load_state_dict(torch.load(PATH))"
   ]
  },
  {
   "cell_type": "code",
   "execution_count": 18,
   "id": "d6ada703-bdfd-4704-a3b5-f8830d7848c1",
   "metadata": {},
   "outputs": [],
   "source": [
    "image_names = os.listdir(\"../data/samples/\"+distro+\"/samples_images/\")\n",
    "for imn in image_names:\n",
    "    if not ('png' in imn):\n",
    "        image_names.remove(imn)"
   ]
  },
  {
   "cell_type": "code",
   "execution_count": 19,
   "id": "0b81f8b7-98c4-4b9a-bb92-fa2963c6dc83",
   "metadata": {
    "tags": []
   },
   "outputs": [],
   "source": [
    "# choose number of samples used in preprocessor\n",
    "nos_used_in_cnn = 100\n",
    "# choose number of nodes to keep\n",
    "non_to_keep = 10"
   ]
  },
  {
   "cell_type": "code",
   "execution_count": 20,
   "id": "108771d9-ff6a-4d09-9d3d-ab1431d88932",
   "metadata": {},
   "outputs": [],
   "source": [
    "dataset = np.random.choice(a = image_names, size = nos_used_in_cnn, replace = False)"
   ]
  },
  {
   "cell_type": "code",
   "execution_count": 21,
   "id": "748808f8-bdd7-4a62-ae94-fef4e716e0bf",
   "metadata": {},
   "outputs": [],
   "source": [
    "scores = []\n",
    "for d in dataset:\n",
    "    scores.append(score(model, image_transforms[\"test\"], \"../data/samples/\"+distro+\"/samples_images/\"+d, idx_to_class)[0:non_to_keep])"
   ]
  },
  {
   "cell_type": "code",
   "execution_count": 22,
   "id": "0013b7f3-59a5-4fb5-8f0e-9cbabed2a6ea",
   "metadata": {},
   "outputs": [],
   "source": [
    "score_count_dict = {}\n",
    "for host in host_list:\n",
    "    score_count_dict[host] = 0"
   ]
  },
  {
   "cell_type": "code",
   "execution_count": 23,
   "id": "9d93ba3b-5cd3-4848-b213-2fcb725bb913",
   "metadata": {},
   "outputs": [],
   "source": [
    "for sc in scores:\n",
    "    for ent in sc:\n",
    "        score_count_dict[ent] = score_count_dict[ent] + 1"
   ]
  },
  {
   "cell_type": "code",
   "execution_count": 24,
   "id": "8b6c25b7-c7ff-4fea-9f29-e812d7f93a74",
   "metadata": {},
   "outputs": [],
   "source": [
    "hosts_to_keep = np.array(list(score_count_dict.keys()))[np.argsort(list(score_count_dict.values()))[::-1][0:non_to_keep]]"
   ]
  },
  {
   "cell_type": "code",
   "execution_count": 25,
   "id": "f1bc8765-6d8b-4195-920c-7a44aca4fa3a",
   "metadata": {},
   "outputs": [
    {
     "data": {
      "text/plain": [
       "array([ 0,  6,  9, 10,  1, 14, 22, 15,  2, 13], dtype=int64)"
      ]
     },
     "execution_count": 25,
     "metadata": {},
     "output_type": "execute_result"
    }
   ],
   "source": [
    "hosts_to_keep"
   ]
  },
  {
   "cell_type": "code",
   "execution_count": null,
   "id": "f4e32143-b731-4949-96e9-33df70c2f554",
   "metadata": {
    "tags": []
   },
   "outputs": [],
   "source": []
  }
 ],
 "metadata": {
  "kernelspec": {
   "display_name": "Python 3 (ipykernel)",
   "language": "python",
   "name": "python3"
  },
  "language_info": {
   "codemirror_mode": {
    "name": "ipython",
    "version": 3
   },
   "file_extension": ".py",
   "mimetype": "text/x-python",
   "name": "python",
   "nbconvert_exporter": "python",
   "pygments_lexer": "ipython3",
   "version": "3.9.12"
  }
 },
 "nbformat": 4,
 "nbformat_minor": 5
}
